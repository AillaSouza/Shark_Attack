{
 "cells": [
  {
   "cell_type": "code",
   "execution_count": 1,
   "id": "39deff17",
   "metadata": {},
   "outputs": [],
   "source": [
    "# libraries  \n",
    "import pandas as pd\n",
    "import numpy as np\n",
    "import seaborn as sns\n",
    "import matplotlib.pyplot as plt\n",
    "import warnings\n",
    "warnings.filterwarnings('ignore')"
   ]
  },
  {
   "cell_type": "code",
   "execution_count": 4,
   "id": "e1154394",
   "metadata": {
    "scrolled": true
   },
   "outputs": [],
   "source": [
    "df = pd.read_excel(\"GSAF5.xls\")"
   ]
  },
  {
   "cell_type": "markdown",
   "id": "ea66ed93",
   "metadata": {},
   "source": [
    "### Cleaning Data\n",
    "\n",
    "- 1 - Copy the data (to be safe) \n",
    "- 2 - Fix the name of columns \n",
    "\n"
   ]
  },
  {
   "cell_type": "code",
   "execution_count": 5,
   "id": "0e2109f4",
   "metadata": {},
   "outputs": [],
   "source": [
    "df2 = df.copy()"
   ]
  },
  {
   "cell_type": "code",
   "execution_count": 6,
   "id": "e6a02fbf-1427-479c-a44f-24294770ea86",
   "metadata": {},
   "outputs": [
    {
     "data": {
      "text/plain": [
       "24"
      ]
     },
     "execution_count": 6,
     "metadata": {},
     "output_type": "execute_result"
    }
   ],
   "source": [
    "# we have 5 duplicate which should be taking care of\n",
    "df2.duplicated().sum()"
   ]
  },
  {
   "cell_type": "code",
   "execution_count": 7,
   "id": "4d9397ba",
   "metadata": {},
   "outputs": [],
   "source": [
    "df2.columns= df2.columns.str.lower().str.replace(\" \",\"_\")"
   ]
  },
  {
   "cell_type": "code",
   "execution_count": 8,
   "id": "b56e68c6",
   "metadata": {},
   "outputs": [],
   "source": [
    "df2.drop(['unnamed:_21', 'unnamed:_22', 'unnamed:_11'], axis=1, inplace=True)# unmaned columns \n",
    "df2.drop(['age', 'species_', 'time'],  axis=1, inplace=True) # more than 3000 missing values \n",
    "df2.drop(['source','pdf', 'href_formula', 'href', 'case_number', 'case_number.1','original_order'],  axis=1, inplace=True ) #I find irrelevant "
   ]
  },
  {
   "cell_type": "code",
   "execution_count": 9,
   "id": "ca976012",
   "metadata": {},
   "outputs": [
    {
     "data": {
      "text/plain": [
       "27"
      ]
     },
     "execution_count": 9,
     "metadata": {},
     "output_type": "execute_result"
    }
   ],
   "source": [
    "df2['year'].isna().sum()"
   ]
  },
  {
   "cell_type": "markdown",
   "id": "bef78944",
   "metadata": {},
   "source": [
    "- 3 - Copy the data (to be safe)\n",
    "- 4 - Missing values\n"
   ]
  },
  {
   "cell_type": "code",
   "execution_count": 10,
   "id": "2e107203",
   "metadata": {},
   "outputs": [],
   "source": [
    "df3 = df2.copy()\n",
    "df3 = df3.dropna(how='all')\n",
    "df3 = df3.dropna(subset=['year'])"
   ]
  },
  {
   "cell_type": "code",
   "execution_count": 11,
   "id": "602ca0d2",
   "metadata": {},
   "outputs": [],
   "source": [
    "df3['type'] = df3['type'].replace('?', 'Unconfirmed')\n",
    "df3['type'] = df3['type'].replace(' Provoked', 'Provoked')\n",
    "df3['type'] = df3['type'].fillna('Unconfirmed')\n",
    "\n",
    "df3['country'] = df3['country'].str.upper()\n",
    "df3['country'] = df3['country'].replace('', 'unknown')\n",
    "df3['country'] = df3['country'].fillna('unknown')\n",
    "\n",
    "df3['state'] = df3['state'].str.strip()\n",
    "df3['state'] = df3['state'].str.lower()\n",
    "df3['state'] = df3['state'].replace('', 'unknown')\n",
    "df3['state'] = df3['state'].fillna('unknown')\n",
    "\n",
    "df3['location'] = df3['location'].str.strip()\n",
    "df3['location'] = df3['location'].replace('', 'unknown')\n",
    "df3['location'] = df3['location'].fillna('unknown')\n",
    "\n",
    "df3['name'] = df3['name'].replace('', 'unknown')\n",
    "df3['name'] = df3['name'].replace('female', 'unknown')\n",
    "df3['name'] = df3['name'].fillna('unknown')\n",
    "\n",
    "df3['sex'] = df3['sex'].str.strip()\n",
    "df3['sex'] = df3['sex'].str.lower()\n",
    "df3['sex'] = df3['sex'].replace('', 'unknown')\n",
    "df3['sex'] = df3['sex'].replace('f', 'female')\n",
    "df3['sex'] = df3['sex'].replace('m', 'male')\n",
    "df3['sex'] = df3['sex'].replace('n', 'unknown')\n",
    "df3['sex'] = df3['sex'].replace('.', 'unknown')\n",
    "df3['sex'] = df3['sex'].replace('m x 2', 'unknown')\n",
    "df3['sex'] = df3['sex'].replace('lli', 'unknown')\n",
    "df3['sex'] = df3['sex'].fillna('unknown')\n"
   ]
  },
  {
   "cell_type": "code",
   "execution_count": 12,
   "id": "43e2c1b9",
   "metadata": {},
   "outputs": [
    {
     "data": {
      "text/plain": [
       "0           Swimming\n",
       "1            Surfing\n",
       "2           Swimming\n",
       "3                NaN\n",
       "4            Fishing\n",
       "            ...     \n",
       "6939          Diving\n",
       "6940    Pearl diving\n",
       "6941        Swimming\n",
       "6942             NaN\n",
       "6943        Swimming\n",
       "Name: activity, Length: 6942, dtype: object"
      ]
     },
     "execution_count": 12,
     "metadata": {},
     "output_type": "execute_result"
    }
   ],
   "source": [
    "df3['activity'].str.strip()"
   ]
  },
  {
   "cell_type": "markdown",
   "id": "162f1f3c-23db-4427-a481-929888e901f1",
   "metadata": {},
   "source": [
    "# ACTIVITIES"
   ]
  },
  {
   "cell_type": "code",
   "execution_count": 13,
   "id": "e122b31a-f791-420d-b9dd-2ac41520d5fd",
   "metadata": {},
   "outputs": [],
   "source": [
    "df3.loc[df3['activity'].str.contains('Swi', case=False, na=False), 'activity'] = 'Swimming'\n",
    "df3.loc[df3['activity'].str.contains('Div', case=False, na=False), 'activity'] = 'Swimming'\n",
    "df3.loc[df3['activity'].str.contains('Float', case=False, na=False), 'activity'] = 'Swimming'\n",
    "df3.loc[df3['activity'].str.contains('Bath', case=False, na=False), 'activity'] = 'Swimming'\n",
    "df3.loc[df3['activity'].str.contains('Swmm', case=False, na=False), 'activity'] = 'Swimming'\n",
    "df3.loc[df3['activity'].str.contains('Div', case=False, na=False), 'activity'] = 'Swimming'\n",
    "df3.loc[df3['activity'].str.contains('Float', case=False, na=False), 'activity'] = 'Swimming'\n",
    "df3.loc[df3['activity'].str.contains('Snorkeling', case=False, na=False), 'activity'] = 'Swimming'\n",
    "df3.loc[df3['activity'].str.contains('Standing', case=False, na=False), 'activity'] = 'Swimming'\n",
    "df3.loc[df3['activity'].str.contains('Play', case=False, na=False), 'activity'] = 'Swimming'\n",
    "df3.loc[df3['activity'].str.contains('Splashing', case=False, na=False), 'activity'] = 'Swimming'\n",
    "df3.loc[df3['activity'].str.contains('Lifesaving', case=False, na=False), 'activity'] = 'Swimming'\n",
    "df3.loc[df3['activity'].str.contains('Jumped', case=False, na=False), 'activity'] = 'Swimming'\n",
    "df3.loc[df3['activity'].str.contains('Sitting', case=False, na=False), 'activity'] = 'Swimming'\n",
    "df3.loc[df3['activity'].str.contains('Alacatraz', case=False, na=False), 'activity'] = 'Swimming'\n",
    "df3.loc[df3['activity'].str.contains('drowning', case=False, na=False), 'activity'] = 'Swimming'\n",
    "df3.loc[df3['activity'].str.contains('Ran', case=False, na=False), 'activity'] = 'Swimming'\n",
    "df3.loc[df3['activity'].str.contains('Rescuing', case=False, na=False), 'activity'] = 'Swimming'\n",
    "df3.loc[df3['activity'].str.contains('swam', case=False, na=False), 'activity'] = 'Swimming'\n",
    "df3.loc[df3['activity'].str.contains('Scuba', case=False, na=False), 'activity'] = 'Swimming'\n",
    "df3.loc[df3['activity'].str.contains('Underwater photography', case=False, na=False), 'activity'] = 'Swimming'\n",
    "df3.loc[df3['activity'].str.contains('Lifeguard', case=False, na=False), 'activity'] = 'Swimming'\n",
    "df3.loc[df3['activity'].str.contains('Squatting in the water', case=False, na=False), 'activity'] = 'Swimming'\n",
    "df3.loc[df3['activity'].str.contains('Sittting in water', case=False, na=False), 'activity'] = 'Swimming'\n",
    "df3.loc[df3['activity'].str.contains('Lying', case=False, na=False), 'activity'] = 'Swimming'\n",
    "df3.loc[df3['activity'].str.contains('waist-deep', case=False, na=False), 'activity'] = 'Swimming'\n",
    "df3.loc[df3['activity'].str.contains('Kneeling', case=False, na=False), 'activity'] = 'Swimming'\n",
    "df3.loc[df3['activity'].str.contains('shallows', case=False, na=False), 'activity'] = 'Swimming'\n",
    "df3.loc[df3['activity'].str.contains('ride a shark', case=False, na=False), 'activity'] = 'Swimming'\n",
    "df3.loc[df3['activity'].str.contains('cage', case=False, na=False), 'activity'] = 'Swimming'\n",
    "df3.loc[df3['activity'].str.contains('Crouching', case=False, na=False), 'activity'] = 'Swimming'\n",
    "df3.loc[df3['activity'].str.contains('Crawling', case=False, na=False), 'activity'] = 'Swimming'\n",
    "df3.loc[df3['activity'].str.contains('Leaving', case=False, na=False), 'activity'] = 'Swimming'\n",
    "df3.loc[df3['activity'].str.contains('Stamding', case=False, na=False), 'activity'] = 'Swimming'\n",
    "df3.loc[df3['activity'].str.contains('Thrashing the water', case=False, na=False), 'activity'] = 'Swimming'\n",
    "df3.loc[df3['activity'].str.contains('wife to beach', case=False, na=False), 'activity'] = 'Swimming'"
   ]
  },
  {
   "cell_type": "code",
   "execution_count": 14,
   "id": "77c29e54-b41b-4e9c-a589-dfb3a699da6d",
   "metadata": {},
   "outputs": [],
   "source": [
    "df3.loc[df3['activity'].str.contains('Fis', case=False, na=False), 'activity'] = 'Fishing'\n",
    "df3.loc[df3['activity'].str.contains('Fih', case=False, na=False), 'activity'] = 'Fishing'\n",
    "df3.loc[df3['activity'].str.contains('Wad', case=False, na=False), 'activity'] = 'Fishing'\n",
    "df3.loc[df3['activity'].str.contains('Catching', case=False, na=False), 'activity'] = 'Fishing'\n",
    "df3.loc[df3['activity'].str.contains('Killing', case=False, na=False), 'activity'] = 'Fishing'\n",
    "df3.loc[df3['activity'].str.contains('Net', case=False, na=False), 'activity'] = 'Fishing'\n",
    "df3.loc[df3['activity'].str.contains('Treading', case=False, na=False), 'activity'] = 'Fishing'\n",
    "df3.loc[df3['activity'].str.contains('Shoot', case=False, na=False), 'activity'] = 'Fishing'\n",
    "df3.loc[df3['activity'].str.contains('gather', case=False, na=False), 'activity'] = 'Fishing'\n",
    "df3.loc[df3['activity'].str.contains('Hunt', case=False, na=False), 'activity'] = 'Fishing'\n",
    "df3.loc[df3['activity'].str.contains('Towing', case=False, na=False), 'activity'] = 'Fishing'\n",
    "df3.loc[df3['activity'].str.contains('Haras', case=False, na=False), 'activity'] = 'Fishing'\n",
    "df3.loc[df3['activity'].str.contains('angl', case=False, na=False), 'activity'] = 'Fishing'\n",
    "df3.loc[df3['activity'].str.contains('trawl', case=False, na=False), 'activity'] = 'Fishing'\n",
    "df3.loc[df3['activity'].str.contains('Harp', case=False, na=False), 'activity'] = 'Fishing'\n",
    "df3.loc[df3['activity'].str.contains('spear', case=False, na=False), 'activity'] = 'Fishing'\n",
    "df3.loc[df3['activity'].str.contains('Crab', case=False, na=False), 'activity'] = 'Fishing'\n",
    "df3.loc[df3['activity'].str.contains('Lobstering', case=False, na=False), 'activity'] = 'Fishing'\n",
    "df3.loc[df3['activity'].str.contains('Shrimping', case=False, na=False), 'activity'] = 'Fishing'\n",
    "df3.loc[df3['activity'].str.contains('Scalloping', case=False, na=False), 'activity'] = 'Fishing'\n",
    "df3.loc[df3['activity'].str.contains('prawns', case=False, na=False), 'activity'] = 'Fishing'\n",
    "df3.loc[df3['activity'].str.contains('gut', case=False, na=False), 'activity'] = 'Fishing'\n",
    "df3.loc[df3['activity'].str.contains('Oystering', case=False, na=False), 'activity'] = 'Fishing'\n",
    "df3.loc[df3['activity'].str.contains('pêcheur de bichiques', case=False, na=False), 'activity'] = 'Fishing'\n",
    "df3.loc[df3['activity'].str.contains('kill a shark', case=False, na=False), 'activity'] = 'Fishing'\n",
    "df3.loc[df3['activity'].str.contains('opihi', case=False, na=False), 'activity'] = 'Fishing'\n",
    "df3.loc[df3['activity'].str.contains('trap', case=False, na=False), 'activity'] = 'Fishing'\n",
    "df3.loc[df3['activity'].str.contains('hook', case=False, na=False), 'activity'] = 'Fishing'\n",
    "df3.loc[df3['activity'].str.contains('catch', case=False, na=False), 'activity'] = 'Fishing'\n",
    "df3.loc[df3['activity'].str.contains('meat', case=False, na=False), 'activity'] = 'Fishing'\n",
    "df3.loc[df3['activity'].str.contains('Pulling', case=False, na=False), 'activity'] = 'Fishing'\n",
    "df3.loc[df3['activity'].str.contains('flounder', case=False, na=False), 'activity'] = 'Fishing'\n",
    "df3.loc[df3['activity'].str.contains('land a shark', case=False, na=False), 'activity'] = 'Fishing'\n",
    "df3.loc[df3['activity'].str.contains('lining', case=False, na=False), 'activity'] = 'Fishing'\n",
    "df3.loc[df3['activity'].str.contains('Chumming', case=False, na=False), 'activity'] = 'Fishing'\n",
    "df3.loc[df3['activity'].str.contains('Baiting', case=False, na=False), 'activity'] = 'Fishing'\n",
    "df3.loc[df3['activity'].str.contains('Batin', case=False, na=False), 'activity'] = 'Fishing'\n",
    "df3.loc[df3['activity'].str.contains('line', case=False, na=False), 'activity'] = 'Fishing'\n",
    "df3.loc[df3['activity'].str.contains('beche-de-mer', case=False, na=False), 'activity'] = 'Fishing'\n",
    "df3.loc[df3['activity'].str.contains('specimens', case=False, na=False), 'activity'] = 'Fishing'\n",
    "df3.loc[df3['activity'].str.contains('Holding', case=False, na=False), 'activity'] = 'Fishing'\n",
    "df3.loc[df3['activity'].str.contains('Grabbing', case=False, na=False), 'activity'] = 'Fishing'\n",
    "df3.loc[df3['activity'].str.contains('Measuring', case=False, na=False), 'activity'] = 'Fishing'\n",
    "df3.loc[df3['activity'].str.contains('Bending', case=False, na=False), 'activity'] = 'Fishing'\n",
    "df3.loc[df3['activity'].str.contains('return injured shark', case=False, na=False), 'activity'] = 'Fishing'\n",
    "df3.loc[df3['activity'].str.contains('dragging', case=False, na=False), 'activity'] = 'Fishing'\n",
    "df3.loc[df3['activity'].str.contains('Feeling the shark’s teeth', case=False, na=False), 'activity'] = 'Fishing'"
   ]
  },
  {
   "cell_type": "code",
   "execution_count": 15,
   "id": "f714418b-4171-4630-9ee4-dd0f2e40042c",
   "metadata": {},
   "outputs": [],
   "source": [
    "df3.loc[df3['activity'].str.contains('board', case=False, na=False), 'activity'] = 'Board Sports'\n",
    "df3.loc[df3['activity'].str.contains('ski', case=False, na=False), 'activity'] = 'Board Sports'\n",
    "df3.loc[df3['activity'].str.contains('SUP', case=False, na=False), 'activity'] = 'Board Sports'\n",
    "df3.loc[df3['activity'].str.contains('Padd', case=False, na=False), 'activity'] = 'Board Sports'\n",
    "df3.loc[df3['activity'].str.contains('Surfing', case=False, na=False), 'activity'] = 'Board Sports'\n",
    "df3.loc[df3['activity'].str.contains('Surfng', case=False, na=False), 'activity'] = 'Board Sports'\n",
    "df3.loc[df3['activity'].str.contains('Kite', case=False, na=False), 'activity'] = 'Board Sports'\n",
    "df3.loc[df3['activity'].str.contains('Kakaying', case=False, na=False), 'activity'] = 'Board Sports'"
   ]
  },
  {
   "cell_type": "code",
   "execution_count": 16,
   "id": "56538ca2-9a0a-4fdf-b27f-7fabd65078d4",
   "metadata": {},
   "outputs": [],
   "source": [
    "df3.loc[df3['activity'].str.contains('boat', case=False, na=False), 'activity'] = 'Boating'\n",
    "df3.loc[df3['activity'].str.contains('ship', case=False, na=False), 'activity'] = 'Boating'\n",
    "df3.loc[df3['activity'].str.contains('Sea disaster', case=False, na=False), 'activity'] = 'Boating'\n",
    "df3.loc[df3['activity'].str.contains('Wreck', case=False, na=False), 'activity'] = 'Boating'\n",
    "df3.loc[df3['activity'].str.contains('ferry', case=False, na=False), 'activity'] = 'Boating'\n",
    "df3.loc[df3['activity'].str.contains('cruise', case=False, na=False), 'activity'] = 'Boating'\n",
    "df3.loc[df3['activity'].str.contains('capsize', case=False, na=False), 'activity'] = 'Boating'\n",
    "df3.loc[df3['activity'].str.contains('sank', case=False, na=False), 'activity'] = 'Boating'\n",
    "df3.loc[df3['activity'].str.contains('collide', case=False, na=False), 'activity'] = 'Boating'\n",
    "df3.loc[df3['activity'].str.contains('collision', case=False, na=False), 'activity'] = 'Boating'\n",
    "df3.loc[df3['activity'].str.contains('yacht', case=False, na=False), 'activity'] = 'Boating'\n",
    "df3.loc[df3['activity'].str.contains('craft', case=False, na=False), 'activity'] = 'Boating'\n",
    "df3.loc[df3['activity'].str.contains('Kayaking', case=False, na=False), 'activity'] = 'Boating'\n",
    "df3.loc[df3['activity'].str.contains('Canoe', case=False, na=False), 'activity'] = 'Boating'\n",
    "df3.loc[df3['activity'].str.contains('Rowing', case=False, na=False), 'activity'] = 'Boating'\n",
    "df3.loc[df3['activity'].str.contains('sail', case=False, na=False), 'activity'] = 'Boating'\n",
    "df3.loc[df3['activity'].str.contains('Fell', case=False, na=False), 'activity'] = 'Boating'\n",
    "df3.loc[df3['activity'].str.contains('Sinking', case=False, na=False), 'activity'] = 'Boating'\n",
    "df3.loc[df3['activity'].str.contains('Sculling', case=False, na=False), 'activity'] = 'Boating'\n",
    "df3.loc[df3['activity'].str.contains('freighter', case=False, na=False), 'activity'] = 'Boating'\n",
    "df3.loc[df3['activity'].str.contains('sunk', case=False, na=False), 'activity'] = 'Boating'\n",
    "df3.loc[df3['activity'].str.contains('Navy', case=False, na=False), 'activity'] = 'Boating'\n",
    "df3.loc[df3['activity'].str.contains('Cruising', case=False, na=False), 'activity'] = 'Boating'\n",
    "df3.loc[df3['activity'].str.contains('Ocean racing', case=False, na=False), 'activity'] = 'Boating'\n",
    "df3.loc[df3['activity'].str.contains('SS', case=False, na=False), 'activity'] = 'Boating'\n",
    "df3.loc[df3['activity'].str.contains('anchor', case=False, na=False), 'activity'] = 'Boating'\n",
    "df3.loc[df3['activity'].str.contains('schooner', case=False, na=False), 'activity'] = 'Boating'\n",
    "df3.loc[df3['activity'].str.contains('raft', case=False, na=False), 'activity'] = 'Boating'\n",
    "df3.loc[df3['activity'].str.contains('dinghy', case=False, na=False), 'activity'] = 'Boating'\n",
    "df3.loc[df3['activity'].str.contains('expedition', case=False, na=False), 'activity'] = 'Boating'\n",
    "df3.loc[df3['activity'].str.contains('junk', case=False, na=False), 'activity'] = 'Boating'\n",
    "df3.loc[df3['activity'].str.contains('Finning', case=False, na=False), 'activity'] = 'Boating'\n",
    "df3.loc[df3['activity'].str.contains('S.S.', case=False, na=False), 'activity'] = 'Boating'\n",
    "df3.loc[df3['activity'].str.contains('submarine', case=False, na=False), 'activity'] = 'Boating'\n",
    "df3.loc[df3['activity'].str.contains('barque', case=False, na=False), 'activity'] = 'Boating'\n",
    "df3.loc[df3['activity'].str.contains('steamer', case=False, na=False), 'activity'] = 'Boating'\n",
    "df3.loc[df3['activity'].str.contains('Knocked', case=False, na=False), 'activity'] = 'Boating'\n",
    "df3.loc[df3['activity'].str.contains('Watching', case=False, na=False), 'activity'] = 'Boating'\n",
    "df3.loc[df3['activity'].str.contains('life preserver', case=False, na=False), 'activity'] = 'Boating'\n",
    "df3.loc[df3['activity'].str.contains('HBM', case=False, na=False), 'activity'] = 'Boating'\n",
    "df3.loc[df3['activity'].str.contains('tanker', case=False, na=False), 'activity'] = 'Boating'\n",
    "df3.loc[df3['activity'].str.contains('ton', case=False, na=False), 'activity'] = 'Boating'\n",
    "df3.loc[df3['activity'].str.contains('foundered', case=False, na=False), 'activity'] = 'Boating'\n",
    "df3.loc[df3['activity'].str.contains('deck', case=False, na=False), 'activity'] = 'Boating'\n",
    "df3.loc[df3['activity'].str.contains('motor', case=False, na=False), 'activity'] = 'Boating'\n",
    "df3.loc[df3['activity'].str.contains('destroyer', case=False, na=False), 'activity'] = 'Boating'\n",
    "df3.loc[df3['activity'].str.contains('Trailing', case=False, na=False), 'activity'] = 'Boating'\n",
    "df3.loc[df3['activity'].str.contains('bark', case=False, na=False), 'activity'] = 'Boating'\n",
    "df3.loc[df3['activity'].str.contains('free the shark', case=False, na=False), 'activity'] = 'Boating'\n",
    "df3.loc[df3['activity'].str.contains('hawser', case=False, na=False), 'activity'] = 'Boating'\n",
    "df3.loc[df3['activity'].str.contains('life jackets', case=False, na=False), 'activity'] = 'Boating'\n",
    "df3.loc[df3['activity'].str.contains('life jackets', case=False, na=False), 'activity'] = 'Boating'\n",
    "df3.loc[df3['activity'].str.contains('Adrift', case=False, na=False), 'activity'] = 'Boating'\n",
    "df3.loc[df3['activity'].str.contains('hurricane', case=False, na=False), 'activity'] = 'Boating'\n",
    "df3.loc[df3['activity'].str.contains('attract dolphins', case=False, na=False), 'activity'] = 'Boating'\n",
    "df3.loc[df3['activity'].str.contains('disemboweled', case=False, na=False), 'activity'] = 'Boating'\n",
    "df3.loc[df3['activity'].str.contains('Picking up shark', case=False, na=False), 'activity'] = 'Boating'\n",
    "df3.loc[df3['activity'].str.contains('Cleaning a tank', case=False, na=False), 'activity'] = 'Boating'\n",
    "df3.loc[df3['activity'].str.contains('Investigating shark sighting', case=False, na=False), 'activity'] = 'Boating'"
   ]
  },
  {
   "cell_type": "code",
   "execution_count": 17,
   "id": "b1cb288f-96ef-4df9-8fa3-62178d5ad307",
   "metadata": {},
   "outputs": [],
   "source": [
    "df3.loc[df3['activity'].str.contains('air', case=False, na=False), 'activity'] = 'Aviation'\n",
    "df3.loc[df3['activity'].str.contains('Plane', case=False, na=False), 'activity'] = 'Aviation'\n",
    "df3.loc[df3['activity'].str.contains('Parachuted', case=False, na=False), 'activity'] = 'Aviation'\n",
    "df3.loc[df3['activity'].str.contains('balloon', case=False, na=False), 'activity'] = 'Aviation'\n",
    "df3.loc[df3['activity'].str.contains('Boeing', case=False, na=False), 'activity'] = 'Aviation'"
   ]
  },
  {
   "cell_type": "code",
   "execution_count": 18,
   "id": "2da5a00b-b84c-4470-b715-b5d6db747eeb",
   "metadata": {},
   "outputs": [],
   "source": [
    "df3.loc[df3['activity'].str.contains('Walking', case=False, na=False), 'activity'] = 'Other'\n",
    "df3.loc[df3['activity'].str.contains('Murder', case=False, na=False), 'activity'] = 'Other'\n",
    "df3.loc[df3['activity'].str.contains('Feeding', case=False, na=False), 'activity'] = 'Other'\n",
    "df3.loc[df3['activity'].str.contains('Jumping', case=False, na=False), 'activity'] = 'Other'\n",
    "df3.loc[df3['activity'].str.contains('Clamming', case=False, na=False), 'activity'] = 'Other'\n",
    "df3.loc[df3['activity'].str.contains('Tagging', case=False, na=False), 'activity'] = 'Other'\n",
    "df3.loc[df3['activity'].str.contains('Suicide', case=False, na=False), 'activity'] = 'Other'\n",
    "df3.loc[df3['activity'].str.contains('Shark watching', case=False, na=False), 'activity'] = 'Other'\n",
    "df3.loc[df3['activity'].str.contains('No details', case=False, na=False), 'activity'] = 'Other'\n",
    "df3.loc[df3['activity'].str.contains('horse', case=False, na=False), 'activity'] = 'Other'\n",
    "df3.loc[df3['activity'].str.contains('automobile', case=False, na=False), 'activity'] = 'Other'\n",
    "df3.loc[df3['activity'].str.contains('nightclub', case=False, na=False), 'activity'] = 'Other'\n",
    "df3.loc[df3['activity'].str.contains('beached', case=False, na=False), 'activity'] = 'Other'\n",
    "df3.loc[df3['activity'].str.contains('sedated', case=False, na=False), 'activity'] = 'Other'\n",
    "df3.loc[df3['activity'].str.contains('research', case=False, na=False), 'activity'] = 'Other'\n",
    "df3.loc[df3['activity'].str.contains('Meshing', case=False, na=False), 'activity'] = 'Other'\n",
    "df3.loc[df3['activity'].str.contains('Filming', case=False, na=False), 'activity'] = 'Other'\n",
    "df3.loc[df3['activity'].str.contains('shells', case=False, na=False), 'activity'] = 'Other'\n",
    "df3.loc[df3['activity'].str.contains('Washing', case=False, na=False), 'activity'] = 'Other'\n",
    "df3.loc[df3['activity'].str.contains('seeing', case=False, na=False), 'activity'] = 'Other'\n",
    "df3.loc[df3['activity'].str.contains('Searching', case=False, na=False), 'activity'] = 'Other'\n",
    "df3.loc[df3['activity'].str.contains('Swept out to sea', case=False, na=False), 'activity'] = 'Other'\n",
    "df3.loc[df3['activity'].str.contains('Aquarium', case=False, na=False), 'activity'] = 'Other'\n",
    "df3.loc[df3['activity'].str.contains('Petting', case=False, na=False), 'activity'] = 'Other'\n",
    "df3.loc[df3['activity'].str.contains('over cliff', case=False, na=False), 'activity'] = 'Other'\n",
    "df3.loc[df3['activity'].str.contains('Teasing', case=False, na=False), 'activity'] = 'Other'\n",
    "df3.loc[df3['activity'].str.contains('shark tank', case=False, na=False), 'activity'] = 'Other'\n",
    "df3.loc[df3['activity'].str.contains('male', case=False, na=False), 'activity'] = 'Other'\n",
    "df3.loc[df3['activity'].str.contains('film', case=False, na=False), 'activity'] = 'Other'\n",
    "df3.loc[df3['activity'].str.contains('rescue', case=False, na=False), 'activity'] = 'Other'\n",
    "df3.loc[df3['activity'].str.contains('Hilo', case=False, na=False), 'activity'] = 'Other'\n",
    "df3.loc[df3['activity'].str.contains('Hiking', case=False, na=False), 'activity'] = 'Other'\n",
    "df3.loc[df3['activity'].str.contains('anesthetize', case=False, na=False), 'activity'] = 'Other'\n",
    "df3.loc[df3['activity'].str.contains('enter the USA', case=False, na=False), 'activity'] = 'Other'\n",
    "df3.loc[df3['activity'].str.contains('Defecating', case=False, na=False), 'activity'] = 'Other'\n",
    "df3.loc[df3['activity'].str.contains('homicide', case=False, na=False), 'activity'] = 'Other'\n",
    "df3.loc[df3['activity'].str.contains('pig baskets', case=False, na=False), 'activity'] = 'Other'\n",
    "df3.loc[df3['activity'].str.contains('Touching', case=False, na=False), 'activity'] = 'Other'\n",
    "df3.loc[df3['activity'].str.contains('Touching', case=False, na=False), 'activity'] = 'Other'\n",
    "df3.loc[df3['activity'].str.contains('aid of child', case=False, na=False), 'activity'] = 'Other'\n",
    "df3.loc[df3['activity'].str.contains('Photographing', case=False, na=False), 'activity'] = 'Other'\n",
    "df3.loc[df3['activity'].str.contains('captive shark', case=False, na=False), 'activity'] = 'Other'\n",
    "df3.loc[df3['activity'].str.contains('Dry shelling', case=False, na=False), 'activity'] = 'Other'\n",
    "df3.loc[df3['activity'].str.contains('drive shark from area', case=False, na=False), 'activity'] = 'Other'\n",
    "df3.loc[df3['activity'].str.contains('away from the beach', case=False, na=False), 'activity'] = 'Other'\n",
    "df3.loc[df3['activity'].str.contains('chase shark out to sea', case=False, na=False), 'activity'] = 'Other'"
   ]
  },
  {
   "cell_type": "code",
   "execution_count": 19,
   "id": "dcc02a52-c252-470b-bd2f-fa038fc5e09c",
   "metadata": {},
   "outputs": [],
   "source": [
    "df3['activity'] = df3['activity'].fillna('Unknown')\n",
    "df3['activity'] = df3['activity'].str.strip().replace('', 'Unknown')\n",
    "df3.loc[df3['activity'].str.contains('Unknown', case=False, na=False), 'activity'] = 'Unknown'\n",
    "df3.loc[df3['activity'] == \".\", 'activity'] = 'Unknown'"
   ]
  },
  {
   "cell_type": "code",
   "execution_count": 20,
   "id": "ec7cff91-114c-4188-9020-9adb9f841279",
   "metadata": {},
   "outputs": [
    {
     "data": {
      "text/plain": [
       "Swimming        2611\n",
       "Board Sports    1600\n",
       "Fishing         1585\n",
       "Unknown          594\n",
       "Boating          426\n",
       "Other            117\n",
       "Aviation           9\n",
       "Name: activity, dtype: int64"
      ]
     },
     "execution_count": 20,
     "metadata": {},
     "output_type": "execute_result"
    }
   ],
   "source": [
    "df3['activity'].value_counts()"
   ]
  },
  {
   "cell_type": "code",
   "execution_count": 21,
   "id": "e165528f-1fab-45e3-8a21-0f17a53a4510",
   "metadata": {},
   "outputs": [],
   "source": [
    "graph = {'Swimming':2611, 'Board Sports':1600, 'Fishing':1585, 'Unknown':594, 'Boating':426, 'Other':117, 'Aviation':9}\n",
    "Activity_Type = list(graph.keys())\n",
    "Num_of_Victims = list(graph.values())"
   ]
  },
  {
   "cell_type": "code",
   "execution_count": 22,
   "id": "cc72db7b-964e-467b-94e7-70a0a0fbef22",
   "metadata": {},
   "outputs": [
    {
     "data": {
      "text/plain": [
       "Text(0.5, 0, 'Activity_Type')"
      ]
     },
     "execution_count": 22,
     "metadata": {},
     "output_type": "execute_result"
    },
    {
     "data": {
      "image/png": "[encoded data removed]",
      "text/plain": [
       "<Figure size 576x360 with 1 Axes>"
      ]
     },
     "metadata": {
      "needs_background": "light"
     },
     "output_type": "display_data"
    }
   ],
   "source": [
    "plt.figure(figsize=(8,5))\n",
    "plt.bar(Activity_Type, Num_of_Victims, color = 'slategrey', width=0.5)\n",
    "plt.ylabel('Num_of_Victims')\n",
    "plt.xlabel('Activity_Type')"
   ]
  },
  {
   "cell_type": "code",
   "execution_count": 23,
   "id": "7323df34",
   "metadata": {},
   "outputs": [],
   "source": [
    "# i think this code is here by accident so it should be checked and removed\n",
    "\n",
    "\n",
    "# df3.loc[df3['injury'].str.contains('No injury', case=False, na=False), 'injury'] = 'No injury'\n",
    "# df3.loc[df3['injury'].str.contains('no injury', case=False, na=False), 'injury'] = 'No injury'\n",
    "# df3.loc[df3['injury'].str.contains('no injurty', case=False, na=False), 'injury'] = 'No injury'\n",
    "# df3.loc[df3['injury'].str.contains('inury', case=False, na=False), 'injury'] = 'No injury'\n",
    "\n",
    "# df3.loc[df3['injury'].str.contains('not', case=False, na=False), 'injury'] = 'No Injury'\n",
    "\n",
    "# df3.loc[df3['injury'].str.contains('Injuries', case=False, na=False), 'injury'] = 'Injury'\n",
    "# df3.loc[df3['injury'].str.contains('Injury', case=False, na=False), 'injury'] = 'Injury'\n",
    "# df3.loc[df3['injury'].str.contains('injured', case=False, na=False), 'injury'] = 'Injury'\n",
    "# df3.loc[df3['injury'].str.contains('Recovered', case=False, na=False), 'injury'] = 'Injury recovered'\n",
    "\n",
    "# df3.loc[df3['injury'].str.contains('Minor', case=False, na=False), 'injury'] = 'Minor injury'\n",
    "\n",
    "# df3.loc[df3['injury'].str.contains('FATAL', case=False, na=False), 'injury'] = 'Fatal'\n",
    "# df3.loc[df3['injury'].str.contains('Bit', case=False, na=False), 'injury'] = 'Bitten'\n",
    "# df3.loc[df3['injury'].str.contains('Lac', case=False, na=False), 'injury'] = 'Laceration'\n",
    "# df3.loc[df3['injury'].str.contains('Serious', case=False, na=False), 'injury'] = 'Serious'\n",
    "# df3.loc[df3['injury'].str.contains('Severe', case=False, na=False), 'injury'] = 'Serious'\n",
    "# df3.loc[df3['injury'].str.contains('Lost', case=False, na=False), 'injury'] = 'Serious'\n",
    "# df3.loc[df3['injury'].str.contains('Cut', case=False, na=False), 'injury'] = 'Cuts'\n",
    "# df3.loc[df3['injury'].str.contains('Punc', case=False, na=False), 'injury'] = 'Puncture'\n",
    "\n",
    "# df3.loc[df3['injury'].str.contains('Superficial', case=False, na=False), 'injury'] = 'Superficial'\n",
    "# df3.loc[df3['injury'].str.contains('board', case=False, na=False), 'injury'] = 'Material Damage'\n",
    "# df3.loc[df3['injury'].str.contains('boat', case=False, na=False), 'injury'] = 'Material Damage'\n",
    "# df3.loc[df3['injury'].str.contains('kay', case=False, na=False), 'injury'] = 'Material Damage'\n",
    "\n",
    "# df3.loc[df3['injury'].str.contains('Disap', case=False, na=False), 'injury'] = 'Disappeared'\n",
    "\n",
    "# df3.loc[df3['injury'].str.contains('Scratch', case=False, na=False), 'injury'] = 'Scratches'\n",
    "# df3.loc[df3['injury'].str.contains('Bruise', case=False, na=False), 'injury'] = 'Bruising'\n",
    "# df3.loc[df3['injury'].str.contains('Abrasion', case=False, na=False), 'injury'] = 'Abrasion'\n",
    "# df3.loc[df3['injury'].str.contains('Wound', case=False, na=False), 'injury'] = 'Wound'\n",
    "# df3.loc[df3['injury'].str.contains('Amputate', case=False, na=False), 'injury'] = 'Amputation'\n",
    "# df3.loc[df3['injury'].str.contains('Lost', case=False, na=False), 'injury'] = 'Amputation'  \n",
    "# df3.loc[df3['injury'].str.contains('Drowning', case=False, na=False), 'injury'] = 'Drowning'\n",
    "# df3.loc[df3['injury'].str.contains('Scavenging', case=False, na=False), 'injury'] = 'Scavenged'\n",
    "# df3.loc[df3['injury'].str.contains('Hoax', case=False, na=False), 'injury'] = 'Hoax'\n",
    "# df3.loc[df3['injury'].str.contains('unknown', case=False, na=False), 'injury'] = 'unknown'\n",
    "# df3.loc[df3['injury'].str.contains('missing', case=False, na=False), 'injury'] = 'Missing'\n",
    "# df3.loc[df3['injury'].str.contains('incident', case=False, na=False), 'injury'] = 'Incident'\n",
    "# df3.loc[df3['injury'].str.contains('report', case=False, na=False), 'injury'] = 'Incident'\n",
    "\n",
    "# df3['injury'] = df3['injury'].replace('', 'unknown')\n",
    "# df3['injury'] = df3['injury'].fillna('unknown')\n"
   ]
  },
  {
   "cell_type": "markdown",
   "id": "03e324dc-33af-499f-80ff-19d8a43cb10a",
   "metadata": {},
   "source": [
    "# LOCATION"
   ]
  },
  {
   "cell_type": "code",
   "execution_count": 24,
   "id": "8a13bf25",
   "metadata": {},
   "outputs": [
    {
     "data": {
      "text/plain": [
       "Date                25\n",
       "Year                27\n",
       "Type                43\n",
       "Country             75\n",
       "State              507\n",
       "Location           590\n",
       "Activity           611\n",
       "Name               245\n",
       "Sex                604\n",
       "Age               3019\n",
       "Injury              60\n",
       "Unnamed: 11        587\n",
       "Time              3551\n",
       "Species           3157\n",
       "Source              44\n",
       "pdf                170\n",
       "href formula       150\n",
       "href               173\n",
       "Case Number        171\n",
       "Case Number.1      172\n",
       "original order     170\n",
       "Unnamed: 21       6968\n",
       "Unnamed: 22       6967\n",
       "dtype: int64"
      ]
     },
     "execution_count": 24,
     "metadata": {},
     "output_type": "execute_result"
    }
   ],
   "source": [
    "df.isna().sum()"
   ]
  },
  {
   "cell_type": "code",
   "execution_count": 25,
   "id": "80a57f13",
   "metadata": {},
   "outputs": [
    {
     "data": {
      "text/plain": [
       "date         0\n",
       "year         0\n",
       "type         0\n",
       "country      0\n",
       "state        0\n",
       "location     0\n",
       "activity     0\n",
       "name         0\n",
       "sex          0\n",
       "injury      35\n",
       "dtype: int64"
      ]
     },
     "execution_count": 25,
     "metadata": {},
     "output_type": "execute_result"
    }
   ],
   "source": [
    "df3.isna().sum()"
   ]
  },
  {
   "cell_type": "code",
   "execution_count": 26,
   "id": "4a77854f",
   "metadata": {},
   "outputs": [
    {
     "data": {
      "text/html": [
       "<div>\n",
       "<style scoped>\n",
       "    .dataframe tbody tr th:only-of-type {\n",
       "        vertical-align: middle;\n",
       "    }\n",
       "\n",
       "    .dataframe tbody tr th {\n",
       "        vertical-align: top;\n",
       "    }\n",
       "\n",
       "    .dataframe thead th {\n",
       "        text-align: right;\n",
       "    }\n",
       "</style>\n",
       "<table border=\"1\" class=\"dataframe\">\n",
       "  <thead>\n",
       "    <tr style=\"text-align: right;\">\n",
       "      <th></th>\n",
       "      <th>date</th>\n",
       "      <th>year</th>\n",
       "      <th>type</th>\n",
       "      <th>country</th>\n",
       "      <th>state</th>\n",
       "      <th>location</th>\n",
       "      <th>activity</th>\n",
       "      <th>name</th>\n",
       "      <th>sex</th>\n",
       "      <th>injury</th>\n",
       "    </tr>\n",
       "  </thead>\n",
       "  <tbody>\n",
       "    <tr>\n",
       "      <th>0</th>\n",
       "      <td>15 Mar 2024</td>\n",
       "      <td>2024.0</td>\n",
       "      <td>Unprovoked</td>\n",
       "      <td>AUSTRALIA</td>\n",
       "      <td>queensland</td>\n",
       "      <td>Bargara Beach</td>\n",
       "      <td>Swimming</td>\n",
       "      <td>Brooklyn Sauer</td>\n",
       "      <td>female</td>\n",
       "      <td>Minor injuries to back, abdomen and legs</td>\n",
       "    </tr>\n",
       "    <tr>\n",
       "      <th>1</th>\n",
       "      <td>04 Mar 2024</td>\n",
       "      <td>2024.0</td>\n",
       "      <td>Unprovoked</td>\n",
       "      <td>USA</td>\n",
       "      <td>hawaii</td>\n",
       "      <td>Old Man's, Waikiki</td>\n",
       "      <td>Board Sports</td>\n",
       "      <td>Matthew White</td>\n",
       "      <td>male</td>\n",
       "      <td>No injury, shark bit surfboard</td>\n",
       "    </tr>\n",
       "    <tr>\n",
       "      <th>2</th>\n",
       "      <td>02 Mar-2024</td>\n",
       "      <td>2024.0</td>\n",
       "      <td>Unprovoked</td>\n",
       "      <td>USA</td>\n",
       "      <td>hawaii</td>\n",
       "      <td>Rainbows, Oahu</td>\n",
       "      <td>Swimming</td>\n",
       "      <td>unknown</td>\n",
       "      <td>female</td>\n",
       "      <td>Lacerations to left foot</td>\n",
       "    </tr>\n",
       "    <tr>\n",
       "      <th>3</th>\n",
       "      <td>25 Feb-2024</td>\n",
       "      <td>2024.0</td>\n",
       "      <td>Unprovoked</td>\n",
       "      <td>AUSTRALIA</td>\n",
       "      <td>western australia</td>\n",
       "      <td>Sandlnd Island, Jurian Bay</td>\n",
       "      <td>Unknown</td>\n",
       "      <td>unknown</td>\n",
       "      <td>female</td>\n",
       "      <td>Leg bitten</td>\n",
       "    </tr>\n",
       "    <tr>\n",
       "      <th>4</th>\n",
       "      <td>14 Feb-2024</td>\n",
       "      <td>2024.0</td>\n",
       "      <td>Unprovoked</td>\n",
       "      <td>INDIA</td>\n",
       "      <td>maharashtra</td>\n",
       "      <td>Vaitarna River, Palghar District</td>\n",
       "      <td>Fishing</td>\n",
       "      <td>Vicky Suresh Govari</td>\n",
       "      <td>male</td>\n",
       "      <td>Calf of lower left leg injured</td>\n",
       "    </tr>\n",
       "  </tbody>\n",
       "</table>\n",
       "</div>"
      ],
      "text/plain": [
       "          date    year        type    country              state  \\\n",
       "0  15 Mar 2024  2024.0  Unprovoked  AUSTRALIA         queensland   \n",
       "1  04 Mar 2024  2024.0  Unprovoked        USA             hawaii   \n",
       "2  02 Mar-2024  2024.0  Unprovoked        USA             hawaii   \n",
       "3  25 Feb-2024  2024.0  Unprovoked  AUSTRALIA  western australia   \n",
       "4  14 Feb-2024  2024.0  Unprovoked      INDIA        maharashtra   \n",
       "\n",
       "                           location      activity                 name  \\\n",
       "0                     Bargara Beach      Swimming       Brooklyn Sauer   \n",
       "1                Old Man's, Waikiki  Board Sports        Matthew White   \n",
       "2                    Rainbows, Oahu      Swimming              unknown   \n",
       "3        Sandlnd Island, Jurian Bay       Unknown              unknown   \n",
       "4  Vaitarna River, Palghar District       Fishing  Vicky Suresh Govari   \n",
       "\n",
       "      sex                                    injury  \n",
       "0  female  Minor injuries to back, abdomen and legs  \n",
       "1    male            No injury, shark bit surfboard  \n",
       "2  female                  Lacerations to left foot  \n",
       "3  female                                Leg bitten  \n",
       "4    male            Calf of lower left leg injured  "
      ]
     },
     "execution_count": 26,
     "metadata": {},
     "output_type": "execute_result"
    }
   ],
   "source": [
    "df3.head()"
   ]
  },
  {
   "cell_type": "code",
   "execution_count": 27,
   "id": "a3758b90-542c-4fb0-bc2d-f936ea53d9c8",
   "metadata": {},
   "outputs": [],
   "source": [
    "###Countries + Region Mapping"
   ]
  },
  {
   "cell_type": "code",
   "execution_count": 28,
   "id": "8a1379a4-d318-4922-8179-4e20c4540ede",
   "metadata": {},
   "outputs": [],
   "source": [
    "\n",
    "country1 = [\n",
    "    df3['country'].str.contains('USA|TRINIDAD AND TOBAGO|BAHAMAS|MEXICO|BELIZE|TURKS AND CAICOS|CUBA|JAMAICA|COSTA RICA|CANADA|ST KITTS NEVIS|ST MARTIN|DOMINICAN REPUBLIC|CAYMAN ISLANDS|ARUBA|PUERTO RICO|ST. MARTIN|ANTIGUA|PANAMA|NEVIS|BRITISH VIRGIN ISLANDS|ST. MAARTIN|GRAND CAYMAN|HONDURAS|CARIBBEAN SEA|EL SALVADOR|BERMUDA|NORTH ATLANTIC OCEAN|GRENADA|NORTH PACIFIC OCEAN|BRITISH WEST INDIES|NICARAGUA|MARTINIQUE|GUATEMALA|NETHERLANDS ANTILLES|MID-PACIFIC OCEAN|CURACAO|BARBADOS|HAITI|SAN DOMINGO|WEST INDIES|TOBAGO|GREENLAND|ROATAN', case=False, na=False),  \n",
    "    df3['country'].str.contains('COLOMBIA|ECUADOR|BRAZIL|ARGENTINA|CHILE|VENEZUELA|URUGUAY|SOUTH PACIFIC OCEAN|SOUTH ATLANTIC OCEAN|GUYANA|FALKLAND ISLANDS|PARAGUAY|PERU', case=False, na=False),\n",
    "    df3['country'].str.contains('SPAIN|PORTUGAL|ENGLAND|IRELAND|ITALY|UNITED KINGDOM|GREECE|FRANCE|SCOTLAND|CROATIA|RUSSIA|AZORES|MALTA|NORWAY|MONTENEGRO|BRITISH ISLES|NORTH SEA|THE BALKANS|SLOVENIA|ICELAND|ITALY / CROATIA|MONACO|CRETE|CYPRUS|GEORGIA|MEDITERRANEAN SEA|SWEDEN', case=False, na=False), \n",
    "    df3['country'].str.contains('SOUTH AFRICA|EGYPT|SEYCHELLES|REUNION ISLAND|LIBYA|MAURITIUS|ST HELENA|COMOROS|REUNION|CAPE VERDE|MOZAMBIQUE|NIGERIA|KENYA|MADAGASCAR|SOMALIA|SENEGAL|SIERRA LEONE|LIBERIA|TANZANIA|ANGOLA|TUNISIA|NAMIBIA|SUDAN|RED SEA|RED SEA / INDIAN OCEAN|GABON|MAYOTTE|EGYPT|INDIAN OCEAN|GUINEA|EQUATORIAL GUINEA|ALGERIA|COAST OF AFRICA|GHANA|DJIBOUTI', case=False, na=False),  \n",
    "    df3['country'].str.contains('AUSTRALIA|NEW ZEALAND|CORAL SEA|SAMOA|FRENCH POLYNESIA|NEW CALEDONIA|FIJI|PAPUA NEW GUINEA|SOLOMON ISLANDS|KIRIBATI|GUAM|TONGA|VANUATU|MICRONESIA|MARSHALL ISLANDS|PALAU|WESTERN SAMOA|NEW BRITAIN|JOHNSTON ISLAND|NEW GUINEA|FEDERATED STATES OF MICRONESIA|ADMIRALTY ISLANDS|AMERICAN SAMOA|NORTHERN MARIANA ISLANDS|SOLOMON ISLANDS|SOUTHWEST PACIFIC OCEAN|BRITISH NEW GUINEA|TUVALU|COOK ISLANDS|TASMAN SEA', case=False, na=False),    \n",
    "    df3['country'].str.contains('INDIA|PHILIPPINES|MALDIVES|JAPAN|INDONESIA|THAILAND|JORDAN|ISRAEL|CHINA|MALAYSIA|UNITED ARAB EMIRATES|DIEGO GARCIA|TAIWAN|PALESTINIAN TERRITORIES|SAUDI ARABIA|SOUTH KOREA|VIETNAM|SRI LANKA|OKINAWA|EGYPT / ISRAEL|NORTHERN ARABIAN SEA|HONG KONG|IRAN|SOUTH CHINA SEA|BANGLADESH|IRAQ|TURKEY|SINGAPORE|PERSIAN GULF|PACIFIC OCEAN|MALDIVE ISLANDS|ANDAMAN / NICOBAR ISLANDS|INDIAN OCEAN|IRAN / IRAQ|JAVA|BAY OF BENGAL|KUWAIT|YEMEN|BURMA|LEBANON|CEYLON|SYRIA|ANDAMAN ISLANDS|BAHRAIN|KOREA|CEYLON (SRI LANKA)', case=False, na=False),\n",
    "\n",
    "]\n",
    "\n",
    "continent1 = [\n",
    "    'North America',\n",
    "    'South America',\n",
    "    'Europe',\n",
    "    'Africa',\n",
    "    'Oceania',\n",
    "    'Asia'\n",
    "]\n"
   ]
  },
  {
   "cell_type": "code",
   "execution_count": 29,
   "id": "e9074068-fa97-459a-adf2-233f05c87e1f",
   "metadata": {},
   "outputs": [],
   "source": [
    "df3['Continent'] = np.select(country1, continent1, default='Others')"
   ]
  },
  {
   "cell_type": "code",
   "execution_count": 30,
   "id": "d3254b52-1bd4-4f14-9f8a-58c0f4f5230f",
   "metadata": {},
   "outputs": [
    {
     "data": {
      "text/plain": [
       "North America    3032\n",
       "Oceania          1922\n",
       "Africa           1031\n",
       "Asia              404\n",
       "Europe            274\n",
       "South America     181\n",
       "Others             98\n",
       "Name: Continent, dtype: int64"
      ]
     },
     "execution_count": 30,
     "metadata": {},
     "output_type": "execute_result"
    }
   ],
   "source": [
    "df3['Continent'].value_counts()"
   ]
  },
  {
   "cell_type": "code",
   "execution_count": 31,
   "id": "9dd7ccb7-67b5-4503-9a57-7cd089eae67c",
   "metadata": {},
   "outputs": [],
   "source": [
    "country2 = [\n",
    "    df3['country'].str.contains('GREENLAND', case=False, na=False),\n",
    "    df3['country'].str.contains('SOLOMON ISLANDS / VANUATU|SOUTHWEST PACIFIC OCEAN', case=False, na=False),\n",
    "    df3['country'].str.contains('TRINIDAD|BAHAMAS|TURKS AND CAICOS|CUBA|JAMAICA|ST KITTS / NEVIS|ST MARTIN|DOMINICAN REPUBLIC|CAYMAN ISLANDS|ARUBA|PUERTO RICO|ST. MARTIN|TRINIDAD & TOBAGO|ANTIGUA|TURKS & CAICOS|NEVIS|BRITISH VIRGIN ISLANDS|ST. MAARTIN|GRAND CAYMAN|CARIBBEAN SEA|GRENADA|BRITISH WEST INDIES|MARTINIQUE|NETHERLANDS ANTILLES|CURACAO|BARBADOS|HAITI|SAN DOMINGO|WEST INDIES|TOBAGO|ROATAN', case=False, na=False),\n",
    "    df3['country'].str.contains('GEORGIA', case=False, na=False),\n",
    "    df3['country'].str.contains('GABON|EQUATORIAL GUINEA / CAMEROON', case=False, na=False),\n",
    "    df3['country'].str.contains('MEXICO|BELIZE|COSTA RICA|PANAMA|MEXICO |HONDURAS|EL SALVADOR|NICARAGUA |GUATEMALA|NICARAGUA', case=False, na=False),\n",
    "    df3['country'].str.contains('SLOVENIA', case=False, na=False),\n",
    "    df3['country'].str.contains('PARAGUAY', case=False, na=False),\n",
    "    df3['country'].str.contains('COAST OF AFRICA', case=False, na=False),\n",
    "    df3['country'].str.contains('KENYA|SOMALIA|TANZANIA|DJIBOUTI', case=False, na=False),\n",
    "    df3['country'].str.contains('JAPAN|CHINA|TAIWAN|SOUTH KOREA|OKINAWA|HONG KONG|SOUTH CHINA SEA|KOREA', case=False, na=False),\n",
    "    df3['country'].str.contains('RUSSIA', case=False, na=False),\n",
    "    df3['country'].str.contains('CYPRUS', case=False, na=False),\n",
    "    df3['country'].str.contains('BRAZIL', case=False, na=False),\n",
    "    df3['country'].str.contains('JORDAN|ISRAEL|UNITED ARAB EMIRATES|PALESTINIAN TERRITORIES|SAUDI ARABIA|UNITED ARAB EMIRATES (UAE)|EGYPT / ISRAEL|IRAN|IRAQ|IRAN / IRAQ|KUWAIT|YEMEN |LEBANON|SYRIA|BAHREIN', case=False, na=False),\n",
    "    df3['country'].str.contains('EGYPT|LIBYA|TUNISIA|SUDAN|SUDAN?|EGYPT |ALGERIA|IRAN|IRAQ|IRAN / IRAQ|KUWAIT|YEMEN |LEBANON|SYRIA|BAHREIN', case=False, na=False),\n",
    "    df3['country'].str.contains('USA', case=False, na=False),\n",
    "    df3['country'].str.contains('ENGLAND|IRELAND|UNITED KINGDOM|SCOTLAND|NORWAY|ICELAND|SWEDEN', case=False, na=False),\n",
    "    df3['country'].str.contains('CANADA', case=False, na=False),\n",
    "    df3['country'].str.contains('COLOMBIA|COLUMBIA|VENEZUELA|GUYANA', case=False, na=False),\n",
    "    df3['country'].str.contains('BRITISH ISLES', case=False, na=False),\n",
    "    df3['country'].str.contains('ECUADOR', case=False, na=False),\n",
    "    df3['country'].str.contains('SEYCHELLES|REUNION ISLAND|MAURITIUS|COMOROS|REUNION|DIEGO GARCIA|AZORES|MADAGASCAR|NORTHERN ARABIAN SEA|BERMUDA|NORTH ATLANTIC OCEAN|PACIFIC OCEAN |SOUTH PACIFIC OCEAN|RED SEA|NORTH PACIFIC OCEAN|SOUTH ATLANTIC OCEAN|PERSIAN GULF|RED SEA / INDIAN OCEAN|PACIFIC OCEAN|NORTH SEA|MAYOTTE|NORTH ATLANTIC OCEAN |INDIAN OCEAN|MID-PACIFC OCEAN|OCEAN|INDIAN OCEAN?|TASMAN SEA|MEDITERRANEAN SEA', case=False, na=False),\n",
    "    df3['country'].str.contains('AUSTRALIA|NEW ZEALAND|SAMOA|FRENCH POLYNESIA|NEW CALEDONIA|FIJI|PAPUA NEW GUINEA|SOLOMON ISLANDS|KIRIBATI|GUAM|TONGA|VANUATU| TONGA|MICRONESIA|MARSHALL ISLANDS|PALAU|WESTERN SAMOA|NEW BRITAIN|JOHNSTON ISLAND|NEW GUINEA|FEDERATED STATES OF MICRONESIA|ADMIRALTY ISLANDS|AMERICAN SAMOA|NORTHERN MARIANA ISLANDS|BRITISH NEW GUINEA|TUVALU|COOK ISLANDS', case=False, na=False),\n",
    "    df3['country'].str.contains('INDIA|MALDIVES|SRI LANKA|BANGLADESH|MALDIVE ISLANDS|BAY OF BENGAL|CEYLON|CEYLON (SRI LANKA)', case=False, na=False),\n",
    "    df3['country'].str.contains('FALKLAND ISLANDS', case=False, na=False),\n",
    "    df3['country'].str.contains('PHILIPPINES|INDONESIA|THAILAND|MALAYSIA|VIETNAM|SINGAPORE|ANDAMAN / NICOBAR ISLANDAS|JAVA| PHILIPPINES|BURMA|ANDAMAN ISLANDS', case=False, na=False),\n",
    "    df3['country'].str.contains('MONTENEGRO|THE BALKANS', case=False, na=False),    \n",
    "    df3['country'].str.contains('SOUTH AFRICA|MOZAMBIQUE|ANGOLA|NAMIBIA', case=False, na=False),\n",
    "    df3['country'].str.contains('SPAIN|PORTUGAL|ITALY|GREECE|CROATIA|ITALY / CROATIA|CRETE', case=False, na=False),\n",
    "    df3['country'].str.contains('ARGENTINA|URUGUAY', case=False, na=False),\n",
    "    df3['country'].str.contains('CAPE VERDE|NIGERIA|SENEGAL|Sierra Leone|LIBERIA|GUINEA|GHANA', case=False, na=False),\n",
    "    df3['country'].str.contains('TURKEY', case=False, na=False),\n",
    "    df3['country'].str.contains('FRANCE|MONACO', case=False, na=False),\n",
    "    df3['country'].str.contains('CHILE|PERU', case=False, na=False),\n",
    "    \n",
    "]\n",
    "\n",
    "region1 = [\n",
    "    'Arctic',           \n",
    "    'Australia',        \n",
    "    'Caribbean',        \n",
    "    'Caucasus',         \n",
    "    'Central Africa',   \n",
    "    'Central America',  \n",
    "    'Central Europe',   \n",
    "    'Central South America',  \n",
    "    'Coast of Africa',  \n",
    "    'East Africa',      \n",
    "    'East Asia',        \n",
    "    'Eastern Europe',   \n",
    "    'Eastern Mediterranean',\n",
    "    'Eastern South America',     \n",
    "    'Middle East',      \n",
    "    'North Africa',     \n",
    "    'USA',     \n",
    "    'Northern Europe',  \n",
    "    'Northern North America',    \n",
    "    'Northern South America',    \n",
    "    'Northwestern Europe',  \n",
    "    'Northwestern South America',    \n",
    "    'Ocean',            \n",
    "    'Australia',          \n",
    "    'South Asia',       \n",
    "    'South Atlantic',     \n",
    "    'Southeast Asia',   \n",
    "    'Southeast Europe', \n",
    "    'Southern Africa',  \n",
    "    'Southern Europe',  \n",
    "    'Southern South America',    \n",
    "    'West Africa',      \n",
    "    'Western Asia',     \n",
    "    'Western Europe',   \n",
    "    'Western South America'  \n",
    "]"
   ]
  },
  {
   "cell_type": "code",
   "execution_count": 32,
   "id": "d49d9ddf-61a7-4013-aef2-4d3e42355b4a",
   "metadata": {},
   "outputs": [],
   "source": [
    "df3['Region'] = np.select(country2, region1, default='Others')"
   ]
  },
  {
   "cell_type": "code",
   "execution_count": 33,
   "id": "d24949e7-d390-4940-b9af-2ccf7418a5d9",
   "metadata": {},
   "outputs": [
    {
     "data": {
      "text/plain": [
       "USA                           2538\n",
       "Australia                     2067\n",
       "Southern Africa                647\n",
       "Caribbean                      278\n",
       "Ocean                          206\n",
       "Southern Europe                184\n",
       "Central America                179\n",
       "Southeast Asia                 133\n",
       "Eastern South America          122\n",
       "East Asia                       94\n",
       "Middle East                     75\n",
       "South Asia                      67\n",
       "North Africa                    66\n",
       "Others                          66\n",
       "Northern Europe                 50\n",
       "West Africa                     34\n",
       "Northern South America          26\n",
       "East Africa                     25\n",
       "Western Europe                  14\n",
       "Northern North America          14\n",
       "Western Asia                    12\n",
       "Northwestern South America      11\n",
       "Western South America           10\n",
       "Southern South America           6\n",
       "Eastern Europe                   4\n",
       "Southeast Europe                 4\n",
       "Central Africa                   2\n",
       "Northwestern Europe              1\n",
       "Central Europe                   1\n",
       "South Atlantic                   1\n",
       "Eastern Mediterranean            1\n",
       "Central South America            1\n",
       "Caucasus                         1\n",
       "Coast of Africa                  1\n",
       "Arctic                           1\n",
       "Name: Region, dtype: int64"
      ]
     },
     "execution_count": 33,
     "metadata": {},
     "output_type": "execute_result"
    }
   ],
   "source": [
    "df3['Region'].value_counts()"
   ]
  },
  {
   "cell_type": "markdown",
   "id": "2466faf9-4092-48c4-9b9d-ec22ad2bf043",
   "metadata": {},
   "source": [
    "###BAR GRAPH"
   ]
  },
  {
   "cell_type": "code",
   "execution_count": 34,
   "id": "bd9bb48a-c049-4168-a001-03c347c79fc3",
   "metadata": {},
   "outputs": [
    {
     "data": {
      "text/plain": [
       "Text(0.5, 1.0, 'World Wide Level - Shark Attacks')"
      ]
     },
     "execution_count": 34,
     "metadata": {},
     "output_type": "execute_result"
    },
    {
     "data": {
      "image/png": "[encoded data removed]",
      "text/plain": [
       "<Figure size 432x288 with 1 Axes>"
      ]
     },
     "metadata": {
      "needs_background": "light"
     },
     "output_type": "display_data"
    }
   ],
   "source": [
    "categories = ['North America', 'Oceania', 'Africa', 'Asia','Europe','South America','Others']\n",
    "values = [3032,1922,1031,404,274,181,98]\n",
    "\n",
    "sns.barplot(x=categories, y=values)\n",
    "plt.title(\"World Wide Level - Shark Attacks\")"
   ]
  },
  {
   "cell_type": "code",
   "execution_count": 35,
   "id": "fa08d19b-a65a-43be-bdb1-a6796c6f44df",
   "metadata": {},
   "outputs": [
    {
     "data": {
      "text/plain": [
       "Text(0.5, 1.0, 'Regional Level - Shark Attacks')"
      ]
     },
     "execution_count": 35,
     "metadata": {},
     "output_type": "execute_result"
    },
    {
     "data": {
      "image/png": "[encoded data removed]",
      "text/plain": [
       "<Figure size 432x288 with 1 Axes>"
      ]
     },
     "metadata": {
      "needs_background": "light"
     },
     "output_type": "display_data"
    }
   ],
   "source": [
    "categories = ['USA', 'Australia', 'Southern Africa', 'Caribbean','Ocean','South Europe']\n",
    "values = [2538,2067,647,278,206,184]\n",
    "\n",
    "sns.barplot(x=categories, y=values)\n",
    "plt.title(\"Regional Level - Shark Attacks\")"
   ]
  },
  {
   "cell_type": "markdown",
   "id": "6516b529-afcf-4e84-bb09-715466b87cbe",
   "metadata": {},
   "source": [
    "# INJURY"
   ]
  },
  {
   "cell_type": "code",
   "execution_count": 36,
   "id": "0d893dd1-32b3-4857-ac4e-d585fa3bc5b4",
   "metadata": {},
   "outputs": [],
   "source": [
    "df4 = df3.copy()"
   ]
  },
  {
   "cell_type": "code",
   "execution_count": 37,
   "id": "44b5d54e-c28b-46b0-a1f2-e853d1618665",
   "metadata": {},
   "outputs": [
    {
     "data": {
      "text/plain": [
       "5"
      ]
     },
     "execution_count": 37,
     "metadata": {},
     "output_type": "execute_result"
    }
   ],
   "source": [
    "# we have 7 duplicate which should be taking care of...\n",
    "df4.duplicated().sum()"
   ]
  },
  {
   "cell_type": "code",
   "execution_count": 38,
   "id": "f70391cb-8c20-4e3d-b876-276f265aedaf",
   "metadata": {},
   "outputs": [
    {
     "name": "stdout",
     "output_type": "stream",
     "text": [
      "object\n"
     ]
    }
   ],
   "source": [
    "print(df4.injury.dtype)"
   ]
  },
  {
   "cell_type": "code",
   "execution_count": 39,
   "id": "44168ee9-5d5f-4ac8-bce7-7e9d94625019",
   "metadata": {},
   "outputs": [
    {
     "data": {
      "text/plain": [
       "0                Minor injuries to back, abdomen and legs\n",
       "1                          No injury, shark bit surfboard\n",
       "2                                Lacerations to left foot\n",
       "3                                              Leg bitten\n",
       "4                          Calf of lower left leg injured\n",
       "                              ...                        \n",
       "6939                                                FATAL\n",
       "6940                                                FATAL\n",
       "6941                                                FATAL\n",
       "6942                                                FATAL\n",
       "6943    FATAL. \"Shark bit him in half, carrying away t...\n",
       "Name: injury, Length: 6942, dtype: object"
      ]
     },
     "execution_count": 39,
     "metadata": {},
     "output_type": "execute_result"
    }
   ],
   "source": [
    "df4['injury'].str.strip()"
   ]
  },
  {
   "cell_type": "code",
   "execution_count": 40,
   "id": "93f3968f-af89-4d3c-8046-8246c2756db8",
   "metadata": {},
   "outputs": [
    {
     "data": {
      "text/plain": [
       "array(['Minor injuries to back, abdomen and legs',\n",
       "       'No injury, shark bit surfboard', 'Lacerations to left foot', ...,\n",
       "       'FATAL, leg stripped of flesh  ',\n",
       "       'FATAL, knocked overboard by tail of shark & carried off by shark ',\n",
       "       'FATAL. \"Shark bit him in half, carrying away the lower extremities\" '],\n",
       "      dtype=object)"
      ]
     },
     "execution_count": 40,
     "metadata": {},
     "output_type": "execute_result"
    }
   ],
   "source": [
    "df3.injury.unique()"
   ]
  },
  {
   "cell_type": "code",
   "execution_count": 41,
   "id": "707971aa-5f7a-4810-a09e-f9f4e7b39d8d",
   "metadata": {},
   "outputs": [
    {
     "data": {
      "text/plain": [
       "injury\n",
       "FATAL                             862\n",
       "Foot bitten                       100\n",
       "Survived                           97\n",
       "No injury                          85\n",
       "Leg bitten                         81\n",
       "Left foot bitten                   53\n",
       "No details                         43\n",
       "Right foot bitten                  41\n",
       "No injury, board bitten            35\n",
       "Hand bitten                        33\n",
       "Thigh bitten                       27\n",
       "Calf bitten                        26\n",
       "Lacerations to foot                26\n",
       "Minor injury                       25\n",
       "Right leg bitten                   25\n",
       "Arm bitten                         25\n",
       "FATAL, body not recovered          24\n",
       "Lacerations to left foot           23\n",
       "Foot lacerated                     21\n",
       "Ankle bitten                       20\n",
       "Lacerations to right foot          20\n",
       "Minor injuries                     18\n",
       "Right calf bitten                  17\n",
       "Leg injured                        17\n",
       "No injury, surfboard bitten        16\n",
       "Lacerations to leg                 15\n",
       "Left arm bitten                    15\n",
       "Left leg bitten                    15\n",
       "No injury to occupants             15\n",
       "Heel bitten                        14\n",
       "Laceration to leg                  13\n",
       "Foot severed                       13\n",
       "Leg severed                        13\n",
       "No injury, kayak bitten            13\n",
       "Lacerations to lower leg           13\n",
       "Leg lacerated                      12\n",
       "Right thigh bitten                 12\n",
       "Minor injury to foot               11\n",
       "FATAL, leg severed                 11\n",
       "Left calf bitten                   11\n",
       "Lacerations to right hand          11\n",
       "Thigh lacerated                    10\n",
       "Puncture wounds to foot            10\n",
       "Laceration to left foot            10\n",
       "Left hand bitten                   10\n",
       "Lacerations to right leg           10\n",
       "Legs bitten                        10\n",
       "Probable drowning & scavenging      9\n",
       "Left foot lacerated                 9\n",
       "Knee bitten                         9\n",
       "dtype: int64"
      ]
     },
     "execution_count": 41,
     "metadata": {},
     "output_type": "execute_result"
    }
   ],
   "source": [
    "# The number of Injury in each types\n",
    "df4.value_counts('injury').head(50)"
   ]
  },
  {
   "cell_type": "code",
   "execution_count": 42,
   "id": "06733f3f-3bba-43f1-bb3b-c80dab3f415f",
   "metadata": {},
   "outputs": [],
   "source": [
    "# Major injury types\n",
    "injuries_list=[\"Fatal\",\"Lacerations\",\"Bitten\",\"Punctures\",\"Cuts\",\"Drowning\",\"Amputated\",\"Severe Injury\",\"No Injury\",\"Injury\",\"Material Damage\"]"
   ]
  },
  {
   "cell_type": "code",
   "execution_count": 43,
   "id": "3edb31d8-4756-437b-963c-311a8463fc6c",
   "metadata": {},
   "outputs": [
    {
     "data": {
      "text/html": [
       "<div>\n",
       "<style scoped>\n",
       "    .dataframe tbody tr th:only-of-type {\n",
       "        vertical-align: middle;\n",
       "    }\n",
       "\n",
       "    .dataframe tbody tr th {\n",
       "        vertical-align: top;\n",
       "    }\n",
       "\n",
       "    .dataframe thead th {\n",
       "        text-align: right;\n",
       "    }\n",
       "</style>\n",
       "<table border=\"1\" class=\"dataframe\">\n",
       "  <thead>\n",
       "    <tr style=\"text-align: right;\">\n",
       "      <th></th>\n",
       "      <th>date</th>\n",
       "      <th>year</th>\n",
       "      <th>type</th>\n",
       "      <th>country</th>\n",
       "      <th>state</th>\n",
       "      <th>location</th>\n",
       "      <th>activity</th>\n",
       "      <th>name</th>\n",
       "      <th>sex</th>\n",
       "      <th>injury</th>\n",
       "      <th>Continent</th>\n",
       "      <th>Region</th>\n",
       "    </tr>\n",
       "  </thead>\n",
       "  <tbody>\n",
       "    <tr>\n",
       "      <th>2017</th>\n",
       "      <td>Feb-2007</td>\n",
       "      <td>2007.0</td>\n",
       "      <td>Unprovoked</td>\n",
       "      <td>NEW CALEDONIA</td>\n",
       "      <td>loyalty islands</td>\n",
       "      <td>Ouvéa</td>\n",
       "      <td>Fishing</td>\n",
       "      <td>male</td>\n",
       "      <td>male</td>\n",
       "      <td>Survived</td>\n",
       "      <td>Oceania</td>\n",
       "      <td>Australia</td>\n",
       "    </tr>\n",
       "    <tr>\n",
       "      <th>2398</th>\n",
       "      <td>21-Apr-2003</td>\n",
       "      <td>2003.0</td>\n",
       "      <td>Unprovoked</td>\n",
       "      <td>USA</td>\n",
       "      <td>florida</td>\n",
       "      <td>Shepard Park, Cocoa Beach, Brevard County</td>\n",
       "      <td>Board Sports</td>\n",
       "      <td>male</td>\n",
       "      <td>male</td>\n",
       "      <td>Survived</td>\n",
       "      <td>North America</td>\n",
       "      <td>USA</td>\n",
       "    </tr>\n",
       "    <tr>\n",
       "      <th>2544</th>\n",
       "      <td>26-Jul-2001</td>\n",
       "      <td>2001.0</td>\n",
       "      <td>Unprovoked</td>\n",
       "      <td>USA</td>\n",
       "      <td>south carolina</td>\n",
       "      <td>Myrtle Beach, Horry County</td>\n",
       "      <td>Unknown</td>\n",
       "      <td>unknown</td>\n",
       "      <td>female</td>\n",
       "      <td>Survived</td>\n",
       "      <td>North America</td>\n",
       "      <td>USA</td>\n",
       "    </tr>\n",
       "    <tr>\n",
       "      <th>2558</th>\n",
       "      <td>29-May-2001</td>\n",
       "      <td>2001.0</td>\n",
       "      <td>Unprovoked</td>\n",
       "      <td>USA</td>\n",
       "      <td>texas</td>\n",
       "      <td>Galveston Island</td>\n",
       "      <td>Unknown</td>\n",
       "      <td>male</td>\n",
       "      <td>male</td>\n",
       "      <td>Survived</td>\n",
       "      <td>North America</td>\n",
       "      <td>USA</td>\n",
       "    </tr>\n",
       "    <tr>\n",
       "      <th>2684</th>\n",
       "      <td>02-Mar-2000</td>\n",
       "      <td>2000.0</td>\n",
       "      <td>Unprovoked</td>\n",
       "      <td>AUSTRALIA</td>\n",
       "      <td>new south wales</td>\n",
       "      <td>Taronga Wharf, Athol Bay, Sydney Harbor</td>\n",
       "      <td>Swimming</td>\n",
       "      <td>Jack Dasey</td>\n",
       "      <td>male</td>\n",
       "      <td>Survived</td>\n",
       "      <td>Oceania</td>\n",
       "      <td>Australia</td>\n",
       "    </tr>\n",
       "    <tr>\n",
       "      <th>...</th>\n",
       "      <td>...</td>\n",
       "      <td>...</td>\n",
       "      <td>...</td>\n",
       "      <td>...</td>\n",
       "      <td>...</td>\n",
       "      <td>...</td>\n",
       "      <td>...</td>\n",
       "      <td>...</td>\n",
       "      <td>...</td>\n",
       "      <td>...</td>\n",
       "      <td>...</td>\n",
       "      <td>...</td>\n",
       "    </tr>\n",
       "    <tr>\n",
       "      <th>6631</th>\n",
       "      <td>Reported 21-Jun-1856</td>\n",
       "      <td>1856.0</td>\n",
       "      <td>Unprovoked</td>\n",
       "      <td>ENGLAND</td>\n",
       "      <td>isle of wight</td>\n",
       "      <td>Colwell Bay</td>\n",
       "      <td>Swimming</td>\n",
       "      <td>male</td>\n",
       "      <td>male</td>\n",
       "      <td>Survived</td>\n",
       "      <td>Europe</td>\n",
       "      <td>Northern Europe</td>\n",
       "    </tr>\n",
       "    <tr>\n",
       "      <th>6708</th>\n",
       "      <td>Ca. 1839</td>\n",
       "      <td>1839.0</td>\n",
       "      <td>Unprovoked</td>\n",
       "      <td>FIJI</td>\n",
       "      <td>viti levu island</td>\n",
       "      <td>Rewa</td>\n",
       "      <td>Unknown</td>\n",
       "      <td>Joeli Bulu, missionary</td>\n",
       "      <td>male</td>\n",
       "      <td>Survived</td>\n",
       "      <td>Oceania</td>\n",
       "      <td>Australia</td>\n",
       "    </tr>\n",
       "    <tr>\n",
       "      <th>6758</th>\n",
       "      <td>12-Jan-1807</td>\n",
       "      <td>1807.0</td>\n",
       "      <td>Unprovoked</td>\n",
       "      <td>AUSTRALIA</td>\n",
       "      <td>new south wales</td>\n",
       "      <td>Cockle Bay, Sydney Harbour</td>\n",
       "      <td>Unknown</td>\n",
       "      <td>male</td>\n",
       "      <td>male</td>\n",
       "      <td>Survived</td>\n",
       "      <td>Oceania</td>\n",
       "      <td>Australia</td>\n",
       "    </tr>\n",
       "    <tr>\n",
       "      <th>6860</th>\n",
       "      <td>No date</td>\n",
       "      <td>0.0</td>\n",
       "      <td>Unprovoked</td>\n",
       "      <td>REUNION</td>\n",
       "      <td>grand'anse</td>\n",
       "      <td>Petite-île</td>\n",
       "      <td>Boating</td>\n",
       "      <td>unknown</td>\n",
       "      <td>male</td>\n",
       "      <td>Survived</td>\n",
       "      <td>Africa</td>\n",
       "      <td>Ocean</td>\n",
       "    </tr>\n",
       "    <tr>\n",
       "      <th>6899</th>\n",
       "      <td>Before Mar-1956</td>\n",
       "      <td>0.0</td>\n",
       "      <td>Unprovoked</td>\n",
       "      <td>NORTH PACIFIC OCEAN</td>\n",
       "      <td>unknown</td>\n",
       "      <td>Wake Island</td>\n",
       "      <td>Fishing</td>\n",
       "      <td>male</td>\n",
       "      <td>male</td>\n",
       "      <td>Survived</td>\n",
       "      <td>North America</td>\n",
       "      <td>Ocean</td>\n",
       "    </tr>\n",
       "  </tbody>\n",
       "</table>\n",
       "<p>97 rows × 12 columns</p>\n",
       "</div>"
      ],
      "text/plain": [
       "                      date    year        type              country  \\\n",
       "2017              Feb-2007  2007.0  Unprovoked        NEW CALEDONIA   \n",
       "2398           21-Apr-2003  2003.0  Unprovoked                  USA   \n",
       "2544           26-Jul-2001  2001.0  Unprovoked                  USA   \n",
       "2558           29-May-2001  2001.0  Unprovoked                  USA   \n",
       "2684           02-Mar-2000  2000.0  Unprovoked            AUSTRALIA   \n",
       "...                    ...     ...         ...                  ...   \n",
       "6631  Reported 21-Jun-1856  1856.0  Unprovoked              ENGLAND   \n",
       "6708              Ca. 1839  1839.0  Unprovoked                 FIJI   \n",
       "6758           12-Jan-1807  1807.0  Unprovoked            AUSTRALIA   \n",
       "6860               No date     0.0  Unprovoked              REUNION   \n",
       "6899       Before Mar-1956     0.0  Unprovoked  NORTH PACIFIC OCEAN   \n",
       "\n",
       "                 state                                   location  \\\n",
       "2017   loyalty islands                                      Ouvéa   \n",
       "2398           florida  Shepard Park, Cocoa Beach, Brevard County   \n",
       "2544    south carolina                 Myrtle Beach, Horry County   \n",
       "2558             texas                           Galveston Island   \n",
       "2684   new south wales    Taronga Wharf, Athol Bay, Sydney Harbor   \n",
       "...                ...                                        ...   \n",
       "6631     isle of wight                                Colwell Bay   \n",
       "6708  viti levu island                                       Rewa   \n",
       "6758   new south wales                 Cockle Bay, Sydney Harbour   \n",
       "6860        grand'anse                                 Petite-île   \n",
       "6899           unknown                                Wake Island   \n",
       "\n",
       "          activity                    name     sex    injury      Continent  \\\n",
       "2017       Fishing                    male    male  Survived        Oceania   \n",
       "2398  Board Sports                    male    male  Survived  North America   \n",
       "2544       Unknown                 unknown  female  Survived  North America   \n",
       "2558       Unknown                    male    male  Survived  North America   \n",
       "2684      Swimming              Jack Dasey    male  Survived        Oceania   \n",
       "...            ...                     ...     ...       ...            ...   \n",
       "6631      Swimming                    male    male  Survived         Europe   \n",
       "6708       Unknown  Joeli Bulu, missionary    male  Survived        Oceania   \n",
       "6758       Unknown                    male    male  Survived        Oceania   \n",
       "6860       Boating                 unknown    male  Survived         Africa   \n",
       "6899       Fishing                    male    male  Survived  North America   \n",
       "\n",
       "               Region  \n",
       "2017        Australia  \n",
       "2398              USA  \n",
       "2544              USA  \n",
       "2558              USA  \n",
       "2684        Australia  \n",
       "...               ...  \n",
       "6631  Northern Europe  \n",
       "6708        Australia  \n",
       "6758        Australia  \n",
       "6860            Ocean  \n",
       "6899            Ocean  \n",
       "\n",
       "[97 rows x 12 columns]"
      ]
     },
     "execution_count": 43,
     "metadata": {},
     "output_type": "execute_result"
    }
   ],
   "source": [
    "# grouping based on the injury type\n",
    "grouping = df4.groupby(['injury'])\n",
    "grouping.get_group('Survived')"
   ]
  },
  {
   "cell_type": "code",
   "execution_count": 44,
   "id": "64730c66-2afa-473c-9c9b-bace665cb022",
   "metadata": {},
   "outputs": [
    {
     "data": {
      "text/plain": [
       "male      4\n",
       "female    1\n",
       "Name: sex, dtype: int64"
      ]
     },
     "execution_count": 44,
     "metadata": {},
     "output_type": "execute_result"
    }
   ],
   "source": [
    "# Filtering the data set by Gender and type of Injury\n",
    "filt = df4['injury'] == 'Fatal'\n",
    "df3.loc[filt]['sex'].value_counts()"
   ]
  },
  {
   "cell_type": "code",
   "execution_count": 45,
   "id": "a665cd43-6824-4a05-897f-23c5e2f5ab6f",
   "metadata": {},
   "outputs": [],
   "source": [
    "graph = {'Injury':1709, 'Fatal':1479, 'Bitten':1370, 'Lacerations':907, 'Punctures':199}\n",
    "Injury_Type = list(graph.keys())\n",
    "Num_of_Victms = list(graph.values())"
   ]
  },
  {
   "cell_type": "code",
   "execution_count": 46,
   "id": "f2873c47-7337-4ba0-af83-29cb83143665",
   "metadata": {},
   "outputs": [
    {
     "data": {
      "text/plain": [
       "Text(0.5, 0, 'Injury_Type')"
      ]
     },
     "execution_count": 46,
     "metadata": {},
     "output_type": "execute_result"
    },
    {
     "data": {
      "image/png": "[encoded data removed]",
      "text/plain": [
       "<Figure size 576x360 with 1 Axes>"
      ]
     },
     "metadata": {
      "needs_background": "light"
     },
     "output_type": "display_data"
    }
   ],
   "source": [
    "plt.figure(figsize=(8,5))\n",
    "plt.bar(Injury_Type, Num_of_Victms, color = 'black', width=0.5)\n",
    "plt.ylabel('Number_of_Victms')\n",
    "plt.xlabel('Injury_Type')"
   ]
  },
  {
   "cell_type": "code",
   "execution_count": null,
   "id": "74a89488-3819-406e-a77b-79f1c535bd1e",
   "metadata": {},
   "outputs": [],
   "source": []
  },
  {
   "cell_type": "code",
   "execution_count": null,
   "id": "13ae3d9f",
   "metadata": {},
   "outputs": [],
   "source": []
  },
  {
   "cell_type": "code",
   "execution_count": null,
   "id": "c0d1cf42",
   "metadata": {},
   "outputs": [],
   "source": []
  }
 ],
 "metadata": {
  "kernelspec": {
   "display_name": "Python 3 (ipykernel)",
   "language": "python",
   "name": "python3"
  },
  "language_info": {
   "codemirror_mode": {
    "name": "ipython",
    "version": 3
   },
   "file_extension": ".py",
   "mimetype": "text/x-python",
   "name": "python",
   "nbconvert_exporter": "python",
   "pygments_lexer": "ipython3",
   "version": "3.9.7"
  }
 },
 "nbformat": 4,
 "nbformat_minor": 5
}
